{
 "cells": [
  {
   "cell_type": "markdown",
   "metadata": {},
   "source": [
    "# PCMCI Analysis of Seascape dependence"
   ]
  },
  {
   "cell_type": "code",
   "execution_count": null,
   "metadata": {},
   "outputs": [],
   "source": [
    "from IPython.core.interactiveshell import InteractiveShell\n",
    "InteractiveShell.ast_node_interactivity = \"all\""
   ]
  },
  {
   "cell_type": "code",
   "execution_count": null,
   "metadata": {},
   "outputs": [],
   "source": [
    "from scipy import stats\n",
    "import numpy as np\n",
    "import pandas as pd\n",
    "import matplotlib\n",
    "from matplotlib import pyplot as plt\n",
    "%matplotlib inline\n",
    "import rpy2\n",
    "from scipy.stats import shapiro\n",
    "import sklearn\n",
    "import tigramite\n",
    "import math\n",
    "from tigramite import data_processing as pp\n",
    "from tigramite import plotting as tp\n",
    "from tigramite.pcmci import PCMCI\n",
    "from tigramite.independence_tests import ParCorr, GPDC, CMIknn, CMIsymb"
   ]
  },
  {
   "cell_type": "code",
   "execution_count": null,
   "metadata": {},
   "outputs": [],
   "source": [
    "file_dir=r'C:/Users/Mark/PycharmProjects/GitHub/Sea-scape-analysis/Data'\n",
    "file_dir2=r'C:/Users/Mark/PycharmProjects/GitHub/Sea-scape-analysis'"
   ]
  },
  {
   "cell_type": "code",
   "execution_count": null,
   "metadata": {
    "scrolled": false
   },
   "outputs": [],
   "source": [
    "import seaborn as sns\n",
    "from scipy.stats.mstats import winsorize\n",
    "\n",
    "species_info=pd.read_csv(file_dir+\"/spec_info.txt\",sep=\"\\t\")\n",
    "spec_list=[\"Eutrigla gurnardus\",\"Amblyraja radiata\",\"Limanda limanda\", \"Merlangius merlangus\",\n",
    "           \"Clupea harengus\",\"Gadus morhua\",\"Sprattus sprattus\",\"Callionymus lyra\",\"Pleuronectes platessa\"]\n",
    "\n",
    "for species in spec_list:\n",
    "    \n",
    "    spec=species.replace(\" \",\"_\")\n",
    "    \n",
    "    print(\"## Lag 2 Winsorized 95% shuffle 3000\")\n",
    "    print(spec)\n",
    "\n",
    "    my_data=pd.read_csv(file_dir+'/PCMCI_prep/%s_PCMCI_prep.csv'%spec,header=0,usecols=range(1,11))\n",
    "\n",
    "    # winsorize data to reduce effect of extreme outliers on parcorr\n",
    "    for column in my_data.columns:\n",
    "        x=my_data[column]\n",
    "        y=winsorize(pd.Series((x),dtype=\"float\"),limits=[0.05,0.05])\n",
    "        my_data[column]=y\n",
    "\n",
    "\n",
    "    #transform to numpy nd-array\n",
    "    my_data=my_data.to_numpy()\n",
    "    np.min(my_data)\n",
    "    np.max(my_data)\n",
    "  \n",
    "    #make sure no nan's\n",
    "    my_data=np.nan_to_num(my_data)\n",
    "    print(np.isnan(my_data).any())\n",
    "\n",
    "    # Initialize PCMCI dataframe object from numpy array, specify time axis and variable names\n",
    "    var_names = [\"S1\",\"S2\",\"S3\",\"S4\",\"S5\",\"S6\",\"S7\",\"S8\",\"S9\",\"S10\"]\n",
    "    dataframe = pp.DataFrame(my_data, var_names=var_names) \n",
    "                             #datatime = np.arange(len(my_data)), \n",
    "                             #var_names=var_names)\n",
    "\n",
    "\n",
    "    #define function\n",
    "    parcorr = ParCorr(significance='shuffle_test',confidence=\"bootstrap\",sig_samples=3000)\n",
    "    pcmci = PCMCI(dataframe=dataframe, cond_ind_test=parcorr, verbosity=1)\n",
    "\n",
    "    pcmci.verbosity = 1\n",
    "    results = pcmci.run_pcmci(tau_max=2, pc_alpha=None)\n",
    "\n",
    "    q_matrix = pcmci.get_corrected_pvalues(p_matrix=results['p_matrix'], fdr_method='fdr_bh')\n",
    "\n",
    "    pcmci.print_significant_links(\n",
    "        p_matrix = results['p_matrix'], \n",
    "        q_matrix = q_matrix,\n",
    "        val_matrix = results['val_matrix'],\n",
    "        conf_matrix=results[\"conf_matrix\"],\n",
    "        alpha_level = 0.05)"
   ]
  }
 ],
 "metadata": {
  "kernelspec": {
   "display_name": "Python 3",
   "language": "python",
   "name": "python3"
  },
  "language_info": {
   "codemirror_mode": {
    "name": "ipython",
    "version": 3
   },
   "file_extension": ".py",
   "mimetype": "text/x-python",
   "name": "python",
   "nbconvert_exporter": "python",
   "pygments_lexer": "ipython3",
   "version": "3.7.6"
  }
 },
 "nbformat": 4,
 "nbformat_minor": 2
}
