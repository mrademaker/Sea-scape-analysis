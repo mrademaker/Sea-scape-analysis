{
 "cells": [
  {
   "cell_type": "code",
   "execution_count": 12,
   "metadata": {},
   "outputs": [
    {
     "data": {
      "text/plain": [
       "'C:/Users/mrademaker/Documents/Research projects/STCNWS/DATRAS/cpue_length_hour/Script/TCDF/runTCDF.py'"
      ]
     },
     "execution_count": 12,
     "metadata": {},
     "output_type": "execute_result"
    }
   ],
   "source": [
    "module_path = r'C:/Users/mrademaker/Documents/Research projects/STCNWS/DATRAS/cpue_length_hour/Script/TCDF/'\n",
    "runTCDF=module_path+\"runTCDF.py\""
   ]
  },
  {
   "cell_type": "code",
   "execution_count": 16,
   "metadata": {},
   "outputs": [
    {
     "name": "stdout",
     "output_type": "stream",
     "text": [
      "usage: runTCDF.py [-h] [--cuda] [--epochs EPOCHS] [--kernel_size KERNEL_SIZE]\n",
      "                  [--hidden_layers HIDDEN_LAYERS]\n",
      "                  [--learning_rate LEARNING_RATE] [--optimizer {Adam,RMSprop}]\n",
      "                  [--log_interval LOG_INTERVAL] [--seed SEED]\n",
      "                  [--dilation_coefficient DILATION_COEFFICIENT]\n",
      "                  [--significance SIGNIFICANCE] [--plot]\n",
      "                  (--ground_truth GROUND_TRUTH | --data DATA [DATA ...])\n",
      "\n",
      "TCDF: Temporal Causal Discovery Framework\n",
      "\n",
      "optional arguments:\n",
      "  -h, --help            show this help message and exit\n",
      "  --cuda                Use CUDA (GPU) (default: False)\n",
      "  --epochs EPOCHS       Number of epochs (default: 1000)\n",
      "  --kernel_size KERNEL_SIZE\n",
      "                        Size of kernel, i.e. window size. Maximum delay to be\n",
      "                        found is kernel size - 1. Recommended to be equal to\n",
      "                        dilation coeffient (default: 4)\n",
      "  --hidden_layers HIDDEN_LAYERS\n",
      "                        Number of hidden layers in the depthwise convolution\n",
      "                        (default: 0)\n",
      "  --learning_rate LEARNING_RATE\n",
      "                        Learning rate (default: 0.01)\n",
      "  --optimizer {Adam,RMSprop}\n",
      "                        Optimizer to use (default: Adam)\n",
      "  --log_interval LOG_INTERVAL\n",
      "                        Epoch interval to report loss (default: 500)\n",
      "  --seed SEED           Random seed (default: 1111)\n",
      "  --dilation_coefficient DILATION_COEFFICIENT\n",
      "                        Dilation coefficient, recommended to be equal to\n",
      "                        kernel size (default: 4)\n",
      "  --significance SIGNIFICANCE\n",
      "                        Significance number stating when an increase in loss\n",
      "                        is significant enough to label a potential cause as\n",
      "                        true (validated) cause. See paper for more details\n",
      "                        (default: 0.8)\n",
      "  --plot                Show causal graph (default: False)\n",
      "  --ground_truth GROUND_TRUTH\n",
      "                        Provide dataset(s) and the ground truth(s) to evaluate\n",
      "                        the results of TCDF. Argument format:\n",
      "                        DataFile1=GroundtruthFile1,Key2=Value2,... with a key\n",
      "                        for each dataset containing multivariate time series\n",
      "                        (required file format: csv, a column with header for\n",
      "                        each time series) and a value for the corresponding\n",
      "                        ground truth (required file format: csv, no header,\n",
      "                        index of cause in first column, index of effect in\n",
      "                        second column, time delay between cause and effect in\n",
      "                        third column)\n",
      "  --data DATA [DATA ...]\n",
      "                        (Path to) one or more datasets to analyse by TCDF\n",
      "                        containing multiple time series. Required file format:\n",
      "                        csv with a column (incl. header) for each time series\n"
     ]
    }
   ],
   "source": [
    "%run -i \"C:/Users/mrademaker/Documents/Research projects/STCNWS/DATRAS/cpue_length_hour/Script/TCDF/runTCDF.py\" --help"
   ]
  },
  {
   "cell_type": "code",
   "execution_count": 24,
   "metadata": {},
   "outputs": [
    {
     "name": "stdout",
     "output_type": "stream",
     "text": [
      "Arguments: Namespace(cuda=False, data=['C:/Users/mrademaker/Documents/Research projects/STCNWS/DATRAS/cpue_length_hour/Data/Gadus_Morhua_TCDF_prep.csv'], dilation_coefficient=4, epochs=500, ground_truth=None, hidden_layers=0, kernel_size=4, learning_rate=0.01, log_interval=250, optimizer='Adam', plot=True, seed=1111, significance=0.8)\n",
      "\n",
      " Dataset:  Gadus_Morhua_TCDF_prep.csv\n",
      "\n",
      " Analysis started for target:  S1\n",
      "Epoch:  1 [0%] \tLoss: 669.165344\n",
      "Epoch: 250 [50%] \tLoss: 59.669258\n",
      "Epoch: 500 [100%] \tLoss: 34.735420\n",
      "Potential causes:  [0, 1]\n",
      "Validated causes:  []\n",
      "\n",
      " Analysis started for target:  S2\n",
      "Epoch:  1 [0%] \tLoss: 1235.261353\n",
      "Epoch: 250 [50%] \tLoss: 52.642460\n",
      "Epoch: 500 [100%] \tLoss: 25.321283\n",
      "Potential causes:  [8, 0]\n",
      "Validated causes:  [8]\n",
      "\n",
      " Analysis started for target:  S3\n",
      "Epoch:  1 [0%] \tLoss: 806.396790\n",
      "Epoch: 250 [50%] \tLoss: 47.310440\n",
      "Epoch: 500 [100%] \tLoss: 19.879436\n",
      "Potential causes:  [4, 2, 0, 1]\n",
      "Validated causes:  []\n",
      "\n",
      " Analysis started for target:  S4\n",
      "Epoch:  1 [0%] \tLoss: 327.452118\n",
      "Epoch: 250 [50%] \tLoss: 12.788606\n",
      "Epoch: 500 [100%] \tLoss: 2.813889\n",
      "Potential causes:  [8, 3, 1]\n",
      "Validated causes:  [8]\n",
      "\n",
      " Analysis started for target:  S5\n",
      "Epoch:  1 [0%] \tLoss: 670.279602\n",
      "Epoch: 250 [50%] \tLoss: 23.940920\n",
      "Epoch: 500 [100%] \tLoss: 12.354841\n",
      "Potential causes:  [4, 9, 5, 3]\n",
      "Validated causes:  [4]\n",
      "\n",
      " Analysis started for target:  S6\n",
      "Epoch:  1 [0%] \tLoss: 1950.944580\n",
      "Epoch: 250 [50%] \tLoss: 101.753609\n",
      "Epoch: 500 [100%] \tLoss: 55.290470\n",
      "Potential causes:  [1, 3, 9, 7]\n",
      "Validated causes:  [1, 3, 7]\n",
      "\n",
      " Analysis started for target:  S7\n",
      "Epoch:  1 [0%] \tLoss: 371.235382\n",
      "Epoch: 250 [50%] \tLoss: 19.132656\n",
      "Epoch: 500 [100%] \tLoss: 7.702185\n",
      "Potential causes:  [2, 4, 5]\n",
      "Validated causes:  [5]\n",
      "\n",
      " Analysis started for target:  S8\n",
      "Epoch:  1 [0%] \tLoss: 827.950867\n",
      "Epoch: 250 [50%] \tLoss: 18.071968\n",
      "Epoch: 500 [100%] \tLoss: 9.680180\n",
      "Potential causes:  [5, 1, 9, 3]\n",
      "Validated causes:  [5]\n",
      "\n",
      " Analysis started for target:  S9\n",
      "Epoch:  1 [0%] \tLoss: 1408.886108\n",
      "Epoch: 250 [50%] \tLoss: 104.135284\n",
      "Epoch: 500 [100%] \tLoss: 46.225491\n",
      "Potential causes:  [9, 8, 1]\n",
      "Validated causes:  [9, 8]\n",
      "\n",
      " Analysis started for target:  S10\n",
      "Epoch:  1 [0%] \tLoss: 921.146545\n",
      "Epoch: 250 [50%] \tLoss: 94.166695\n",
      "Epoch: 500 [100%] \tLoss: 25.248734\n",
      "Potential causes:  [0, 1]\n",
      "Validated causes:  [0]\n",
      "\n",
      "===================Results for Gadus_Morhua_TCDF_prep.csv ==================================\n",
      "S9 causes S2 with a delay of 0 time steps.\n",
      "S9 causes S4 with a delay of 3 time steps.\n",
      "S5 causes S5 with a delay of 1 time steps.\n",
      "S2 causes S6 with a delay of 3 time steps.\n",
      "S4 causes S6 with a delay of 2 time steps.\n",
      "S8 causes S6 with a delay of 0 time steps.\n",
      "S6 causes S7 with a delay of 1 time steps.\n",
      "S6 causes S8 with a delay of 2 time steps.\n",
      "S10 causes S9 with a delay of 2 time steps.\n",
      "S9 causes S9 with a delay of 2 time steps.\n",
      "S1 causes S10 with a delay of 3 time steps.\n",
      "==================================================================================\n"
     ]
    },
    {
     "data": {
      "image/png": "[encoded data removed]",
      "text/plain": [
       "<Figure size 432x288 with 1 Axes>"
      ]
     },
     "metadata": {},
     "output_type": "display_data"
    },
    {
     "data": {
      "text/plain": [
       "<Figure size 432x288 with 0 Axes>"
      ]
     },
     "metadata": {},
     "output_type": "display_data"
    }
   ],
   "source": [
    "\"\"\"Run TCDF\"\"\"\n",
    "%matplotlib inline\n",
    "%run -i \"C:/Users/mrademaker/Documents/Research projects/STCNWS/DATRAS/cpue_length_hour/Script/TCDF/runTCDF.py\" --data \"C:/Users/mrademaker/Documents/Research projects/STCNWS/DATRAS/cpue_length_hour/Data/Gadus_Morhua_TCDF_prep.csv\" --epochs 500 --log_interval 250 --plot"
   ]
  },
  {
   "cell_type": "code",
   "execution_count": null,
   "metadata": {},
   "outputs": [],
   "source": []
  }
 ],
 "metadata": {
  "kernelspec": {
   "display_name": "Python 3",
   "language": "python",
   "name": "python3"
  },
  "language_info": {
   "codemirror_mode": {
    "name": "ipython",
    "version": 3
   },
   "file_extension": ".py",
   "mimetype": "text/x-python",
   "name": "python",
   "nbconvert_exporter": "python",
   "pygments_lexer": "ipython3",
   "version": "3.7.3"
  }
 },
 "nbformat": 4,
 "nbformat_minor": 2
}
