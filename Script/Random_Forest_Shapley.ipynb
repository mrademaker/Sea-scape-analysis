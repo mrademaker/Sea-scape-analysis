{
 "cells": [
  {
   "cell_type": "code",
   "execution_count": 1,
   "metadata": {},
   "outputs": [],
   "source": [
    "from IPython.core.interactiveshell import InteractiveShell\n",
    "InteractiveShell.ast_node_interactivity = \"all\""
   ]
  },
  {
   "cell_type": "code",
   "execution_count": 2,
   "metadata": {},
   "outputs": [],
   "source": [
    "# Importing Required Libraries\n",
    "import numpy as np\n",
    "from numpy import mean\n",
    "import pandas as pd\n",
    "import os\n",
    "\n",
    "from sklearn.model_selection import train_test_split\n",
    "from sklearn.ensemble import RandomForestClassifier\n",
    "from sklearn.ensemble import RandomForestRegressor\n",
    "from sklearn.preprocessing import OneHotEncoder\n",
    "from sklearn.compose import make_column_transformer\n",
    "from sklearn.ensemble import RandomForestClassifier\n",
    "from sklearn.pipeline import make_pipeline\n",
    "from sklearn.metrics import accuracy_score, confusion_matrix, precision_score, recall_score, roc_auc_score, roc_curve, f1_score\n",
    "from sklearn.model_selection import RepeatedStratifiedKFold\n",
    "from sklearn.model_selection import StratifiedKFold\n",
    "from sklearn.model_selection import cross_val_score\n",
    "from sklearn import metrics\n",
    "from imblearn.ensemble import BalancedRandomForestClassifier\n",
    "from sklearn.model_selection import GridSearchCV\n",
    "from sklearn.model_selection import GridSearchCV\n",
    "from sklearn.model_selection import GridSearchCV\n",
    "from sklearn.metrics import make_scorer\n",
    "from sklearn.metrics import f1_score, confusion_matrix, roc_curve, auc, \\\n",
    "            classification_report, recall_score, precision_recall_curve\n",
    "import itertools\n",
    "import matplotlib.pyplot as plt\n",
    "import shap\n"
   ]
  },
  {
   "cell_type": "code",
   "execution_count": 3,
   "metadata": {},
   "outputs": [],
   "source": [
    "##FUNCTIONS\n",
    "def evaluate_model(y_pred, probs,train_predictions, train_probs):\n",
    "    baseline = {}\n",
    "    baseline['recall']=recall_score(y_test,\n",
    "                    [1 for _ in range(len(y_test))])\n",
    "    baseline['precision'] = precision_score(y_test,\n",
    "                    [1 for _ in range(len(y_test))])\n",
    "    baseline['roc'] = 0.5\n",
    "    results = {}\n",
    "    results['recall'] = recall_score(y_test, y_pred)\n",
    "    results['precision'] = precision_score(y_test, y_pred)\n",
    "    results['roc'] = roc_auc_score(y_test, probs)\n",
    "    train_results = {}\n",
    "    train_results['recall'] = recall_score(y_train,       train_predictions)\n",
    "    train_results['precision'] = precision_score(y_train, train_predictions)\n",
    "    train_results['roc'] = roc_auc_score(y_train, train_probs)\n",
    "    for metric in ['recall', 'precision', 'roc']:  \n",
    "          print(f'{metric.capitalize()} Baseline: {round(baseline[metric], 2)} Test: {round(results[metric], 2)} Train: {round(train_results[metric], 2)}')\n",
    "\n",
    "def evaluate(model, test_features, test_labels):\n",
    "    predictions = model.predict(test_features)\n",
    "    errors = abs(predictions - test_labels)\n",
    "    mape = 100 * np.mean(errors / test_labels)\n",
    "    accuracy = 100 - mape\n",
    "    print('Model Performance')\n",
    "    print('Average Error: {:0.4f} degrees.'.format(np.mean(errors)))\n",
    "    print('Accuracy = {:0.2f}%.'.format(accuracy))\n",
    "    \n",
    "    return accuracy\n",
    "\n",
    "            \n",
    "def encode_and_bind(original_dataframe, feature_to_encode):\n",
    "    dummies = pd.get_dummies(original_dataframe[[feature_to_encode]])\n",
    "    res = pd.concat([original_dataframe, dummies], axis=1)\n",
    "    res = res.drop([feature_to_encode], axis=1)\n",
    "    return(res)\n",
    "\n",
    "def plot_confusion_matrix(cm,lag, classes, normalize = False,\n",
    "                          title='Confusion matrix',\n",
    "                          cmap=plt.cm.Greens): # can change color \n",
    "    fig = plt.figure(figsize = (10, 10))\n",
    "    plt.imshow(cm, interpolation='nearest', cmap=cmap)\n",
    "    plt.title(title, size = 24)\n",
    "    plt.colorbar(aspect=4)\n",
    "    tick_marks = np.arange(len(classes))\n",
    "    plt.xticks(tick_marks, classes, rotation=45, size = 14)\n",
    "    plt.yticks(tick_marks, classes, size = 14)\n",
    "    fmt = '.2f' if normalize else 'd'\n",
    "    thresh = cm.max() / 2.\n",
    "    # Label the plot\n",
    "    for i, j in itertools.product(range(cm.shape[0]),   range(cm.shape[1])):\n",
    "        plt.text(j, i, format(cm[i, j], fmt), \n",
    "                 fontsize = 20,\n",
    "                 horizontalalignment=\"center\",\n",
    "                 color=\"white\" if cm[i, j] > thresh else \"black\")\n",
    "    plt.grid(None)\n",
    "    plt.tight_layout()\n",
    "    plt.ylabel('True label', size = 18)\n",
    "    plt.xlabel('Predicted label', size = 18)\n",
    "    plt.show()\n",
    "    output_dir = \"/Users/markrademaker/Projects/Sea-scape-analysis/RF/\"\n",
    "    fig.savefig(output_dir+'SHAP_Lag_{}_RF_Fecundity.png'.format(lag), dpi = 300, bbox_inches='tight')\n",
    "    return \n",
    "    \n",
    "def f(row):\n",
    "    if row['Causal lag 1'] + row['Causal lag 2'] > 0:\n",
    "        val = 1\n",
    "    else:\n",
    "        val = 0\n",
    "    return val"
   ]
  },
  {
   "cell_type": "markdown",
   "metadata": {},
   "source": [
    "# LAG  0"
   ]
  },
  {
   "cell_type": "code",
   "execution_count": 4,
   "metadata": {},
   "outputs": [
    {
     "data": {
      "text/plain": [
       "Index(['Unnamed: 0', 'Seascape combination', 'Neighbouring', 'Species',\n",
       "       'Causal lag 0', 'Causal lag 1', 'Causal lag 2', 'Year', 'Diff LQL Juv',\n",
       "       'Diff UQL Juv', 'Diff Juv Biomass', 'Diff LQL Adult', 'Diff UQL Adult',\n",
       "       'Diff Adult Biomass', 'Family', 'Seasonal migration', 'Fecundity',\n",
       "       'Spawning type', 'Age at Maturity', 'Maximum age', 'Habitat',\n",
       "       'Feeding mode', 'Body type', 'Maximum length', 'Length at maturity'],\n",
       "      dtype='object')"
      ]
     },
     "execution_count": 4,
     "metadata": {},
     "output_type": "execute_result"
    },
    {
     "name": "stdout",
     "output_type": "stream",
     "text": [
      "3066\n"
     ]
    },
    {
     "data": {
      "text/plain": [
       "Index(['Seascape combination', 'Species', 'Year', 'Diff LQL Juv',\n",
       "       'Diff UQL Juv', 'Diff LQL Adult', 'Diff UQL Adult', 'Family',\n",
       "       'Seasonal migration', 'Fecundity', 'Age at Maturity', 'Maximum age',\n",
       "       'Habitat', 'Feeding mode', 'Body type', 'Maximum length',\n",
       "       'Length at maturity'],\n",
       "      dtype='object')"
      ]
     },
     "execution_count": 4,
     "metadata": {},
     "output_type": "execute_result"
    },
    {
     "name": "stdout",
     "output_type": "stream",
     "text": [
      "17\n"
     ]
    },
    {
     "data": {
      "text/plain": [
       "Seascape combination     object\n",
       "Species                  object\n",
       "Year                      int64\n",
       "Diff LQL Juv            float64\n",
       "Diff UQL Juv            float64\n",
       "Diff LQL Adult          float64\n",
       "Diff UQL Adult          float64\n",
       "Family                   object\n",
       "Seasonal migration       object\n",
       "Fecundity               float64\n",
       "Age at Maturity         float64\n",
       "Maximum age             float64\n",
       "Habitat                  object\n",
       "Feeding mode             object\n",
       "Body type                object\n",
       "Maximum length          float64\n",
       "Length at maturity      float64\n",
       "dtype: object"
      ]
     },
     "execution_count": 4,
     "metadata": {},
     "output_type": "execute_result"
    },
    {
     "name": "stdout",
     "output_type": "stream",
     "text": [
      "['Seascape combination', 'Species', 'Family', 'Seasonal migration', 'Habitat', 'Feeding mode', 'Body type']\n",
      "Seascape combination\n",
      "Species\n",
      "Family\n",
      "Seasonal migration\n",
      "Habitat\n",
      "Feeding mode\n",
      "Body type\n",
      "850.5\n",
      "81\n",
      "9.0\n"
     ]
    }
   ],
   "source": [
    "user = \"/Users/markrademaker/Projects/Sea-scape-analysis/\"\n",
    "\n",
    "data = pd.read_csv(user+\"RF/RF_table.csv\")\n",
    "data.columns\n",
    "\n",
    "## Objective function to predict Causal lag 0 \n",
    "exit_status_map = {'yes': 1, 'no': 0}\n",
    "data['Causal lag 0'] = data['Causal lag 0'].map(exit_status_map)\n",
    "#len(data)\n",
    "\n",
    "## Keep rows of neighbouring seascapes\n",
    "#data = data.loc[data['Neighbouring'] == \"yes\"]\n",
    "#len(data)\n",
    "\n",
    "print(len(data.loc[data[\"Causal lag 0\"] == 1]))\n",
    "#absolute values for biomass differences and check\n",
    "data['Diff LQL Juv']=np.abs(data['Diff LQL Juv'])#\n",
    "data['Diff UQL Juv']=np.abs(data['Diff UQL Juv'])\n",
    "data['Diff LQL Adult']=np.abs(data['Diff LQL Adult'])\n",
    "data['Diff UQL Adult']=np.abs(data['Diff UQL Adult'])\n",
    "#data['Diff Juv Biomass'] = np.abs(data['Diff Juv Biomass'])\n",
    "#data['Diff Adult Biomass']=np.abs(data[\"Diff Adult Biomass\"])\n",
    "#print ((data['Diff LQL Juv'] >= 0).all())\n",
    "#print ((data['Diff UQL Juv'] >= 0).all())\n",
    "#print ((data['Diff LQL Adult'] >= 0).all())\n",
    "#print ((data['Diff UQL Adult'] >= 0).all())\n",
    "\n",
    "\n",
    "X = data.drop(['Unnamed: 0','Neighbouring','Causal lag 1','Causal lag 2',\"Diff Juv Biomass\",\"Diff Adult Biomass\",\"Spawning type\"],axis = 1)\n",
    "#spawning type dropped as constant across all species (non-guarder)\n",
    "y = X.pop('Causal lag 0')\n",
    "X.columns\n",
    "print(len(X.columns))\n",
    "#seed = 4  # so that the result is reproducible\n",
    "#X_train, X_test, y_train, y_test = train_test_split(X,y,test_size=0.333, random_state = seed)\n",
    "\n",
    "#list categorical variables to encode\n",
    "#X_train.dtypes\n",
    "X.dtypes\n",
    "features_to_encode = list(X.select_dtypes(include = ['object']).columns) \n",
    "print(features_to_encode)\n",
    "\n",
    "for feature in features_to_encode:\n",
    "    print(feature)\n",
    "    X = encode_and_bind(X, feature)\n",
    "#X = pd.DataFrame(make_column_transformer(\n",
    "#                        (OneHotEncoder(),features_to_encode),\n",
    "#                        remainder = \"passthrough\"\n",
    "#                        ))\n",
    "#X.head()\n",
    "#train subset\n",
    "print(len(X)*0.05)\n",
    "X.columns = X.columns.str.replace('_', ' ')\n",
    "print(len(list(X.columns)))\n",
    "print(np.sqrt(int(len(list(X.columns)))))\n",
    "X_train, X_test, y_train, y_test = train_test_split(X,y,test_size=0.5, random_state=42)"
   ]
  },
  {
   "cell_type": "code",
   "execution_count": null,
   "metadata": {},
   "outputs": [],
   "source": [
    "#set class weight\n",
    "class_weight = dict({0:1, 1:4.5})\n",
    "cv = StratifiedKFold(n_splits = 5, shuffle=True, random_state = 1)\n",
    "\n",
    "rdf = RandomForestClassifier(random_state = 1,class_weight=class_weight) \n",
    "scoring = {'Recall': make_scorer(recall_score),\n",
    "           'f1_score': make_scorer(f1_score)\n",
    "          }\n",
    "\n",
    "params = {'max_depth': [6, 8, 10, 20,40], \n",
    "              'min_samples_split': [5, 10, 15,10],\n",
    "              'min_samples_leaf' : [4, 8, 12,16],\n",
    "              'n_estimators' : [300, 400, 500,600]\n",
    "             }\n",
    "\n",
    "grid_clf = GridSearchCV(estimator = rdf, param_grid = params, cv = cv, n_jobs=-1, verbose=4)\n",
    "grid_clf.fit(X_train, y_train)"
   ]
  },
  {
   "cell_type": "code",
   "execution_count": null,
   "metadata": {},
   "outputs": [],
   "source": [
    "# Fit the grid search to the data\n",
    "grid_search.fit(X_train, y_train)\n",
    "grid_search.best_params_\n",
    "\n",
    "best_grid = grid_search.best_estimator_\n",
    "grid_accuracy = evaluate(best_grid, X_test, y_test)\n",
    "\n",
    "print('Improvement of {:0.2f}%.'.format( 100 * (grid_accuracy - base_accuracy) / base_accuracy))\n"
   ]
  },
  {
   "cell_type": "code",
   "execution_count": null,
   "metadata": {},
   "outputs": [],
   "source": [
    "print(grid_clf.best_estimator_)\n",
    "print(grid_clf.best_params_)"
   ]
  },
  {
   "cell_type": "code",
   "execution_count": 5,
   "metadata": {},
   "outputs": [
    {
     "name": "stdout",
     "output_type": "stream",
     "text": [
      "Mean ROC AUC: 0.980\n"
     ]
    }
   ],
   "source": [
    "#set class weight\n",
    "class_weight = dict({0:1, 1:4.5})\n",
    "# define model\n",
    "#model = RandomForestClassifier(bootstrap=True,\n",
    "#            class_weight=class_weight, \n",
    "#            criterion='gini',\n",
    "#            max_depth=8, max_features='auto', max_leaf_nodes=None,\n",
    "#            min_impurity_decrease=0.0, min_impurity_split=None,\n",
    "#            min_samples_leaf=4, min_samples_split=10,\n",
    "#            min_weight_fraction_leaf=0.0, n_estimators=300,\n",
    "#            oob_score=False,\n",
    "#            random_state=1,\n",
    "#            verbose=0, warm_start=False)\n",
    "model = RandomForestClassifier(bootstrap=True, \n",
    "                               class_weight=class_weight,\n",
    "                               max_depth=40,\n",
    "                               max_features='auto', \n",
    "                               max_leaf_nodes=None,\n",
    "                               min_impurity_decrease=0.0, \n",
    "                               min_impurity_split=None,\n",
    "                               min_samples_leaf=10, \n",
    "                               min_samples_split=10,\n",
    "                               min_weight_fraction_leaf=0.0,\n",
    "                               n_estimators=300, \n",
    "                               n_jobs=-1,\n",
    "                               oob_score=True,\n",
    "                               random_state=1,\n",
    "                               verbose=0, \n",
    "                               warm_start=False)\n",
    "\n",
    "\n",
    "#model = BalancedRandomForestClassifier(min_samples_leaf=50,\n",
    "#                                       n_estimators=150,\n",
    "#                                       bootstrap = True,\n",
    "#                                       oob_score = True,\n",
    "#                                       n_jobs = -1,\n",
    "#                                       class_weight=class_weight,\n",
    "#                                       random_state = 1,\n",
    "#                                       max_features = 'auto')\n",
    "\n",
    "# define evaluation procedure\n",
    "#cv = RepeatedStratifiedKFold(n_splits=10, n_repeats=5, random_state=1)\n",
    "cv = StratifiedKFold(n_splits=5,shuffle=True,random_state=42)\n",
    "# evaluate model\n",
    "scores = cross_val_score(model, X_train, y_train, scoring='roc_auc', cv=cv, n_jobs=-1)\n",
    "\n",
    "# summarize performance\n",
    "print('Mean ROC AUC: %.3f' % mean(scores))"
   ]
  },
  {
   "cell_type": "code",
   "execution_count": 6,
   "metadata": {},
   "outputs": [
    {
     "data": {
      "text/plain": [
       "RandomForestClassifier(class_weight={0: 1, 1: 4.5}, max_depth=40,\n",
       "                       min_samples_leaf=10, min_samples_split=10,\n",
       "                       n_estimators=300, n_jobs=-1, oob_score=True,\n",
       "                       random_state=1)"
      ]
     },
     "execution_count": 6,
     "metadata": {},
     "output_type": "execute_result"
    },
    {
     "data": {
      "text/plain": [
       "0.9786008230452675"
      ]
     },
     "execution_count": 6,
     "metadata": {},
     "output_type": "execute_result"
    },
    {
     "name": "stdout",
     "output_type": "stream",
     "text": [
      "The accuracy of the model is 97.89999999999999 %\n",
      "Train ROC AUC Score: 0.9992242115059856\n",
      "Test ROC AUC  Score: 0.9951015942576388\n"
     ]
    },
    {
     "data": {
      "text/plain": [
       "<Figure size 576x432 with 0 Axes>"
      ]
     },
     "execution_count": 6,
     "metadata": {},
     "output_type": "execute_result"
    },
    {
     "data": {
      "text/plain": [
       "[<matplotlib.lines.Line2D at 0x7fb61b62fdd0>]"
      ]
     },
     "execution_count": 6,
     "metadata": {},
     "output_type": "execute_result"
    },
    {
     "data": {
      "text/plain": [
       "[<matplotlib.lines.Line2D at 0x7fb618e3efd0>]"
      ]
     },
     "execution_count": 6,
     "metadata": {},
     "output_type": "execute_result"
    },
    {
     "data": {
      "text/plain": [
       "<matplotlib.legend.Legend at 0x7fb61b640410>"
      ]
     },
     "execution_count": 6,
     "metadata": {},
     "output_type": "execute_result"
    },
    {
     "data": {
      "text/plain": [
       "Text(0.5, 0, 'False Positive Rate')"
      ]
     },
     "execution_count": 6,
     "metadata": {},
     "output_type": "execute_result"
    },
    {
     "data": {
      "text/plain": [
       "Text(0, 0.5, 'True Positive Rate')"
      ]
     },
     "execution_count": 6,
     "metadata": {},
     "output_type": "execute_result"
    },
    {
     "data": {
      "text/plain": [
       "Text(0.5, 1.0, 'ROC Curves')"
      ]
     },
     "execution_count": 6,
     "metadata": {},
     "output_type": "execute_result"
    },
    {
     "data": {
      "image/png": "[encoded data removed]",
      "text/plain": [
       "<Figure size 576x432 with 1 Axes>"
      ]
     },
     "metadata": {
      "needs_background": "light"
     },
     "output_type": "display_data"
    },
    {
     "name": "stdout",
     "output_type": "stream",
     "text": [
      "Recall Baseline: 1.0 Test: 0.95 Train: 0.99\n",
      "Precision Baseline: 0.18 Test: 0.93 Train: 0.95\n",
      "Roc Baseline: 0.5 Test: 1.0 Train: 1.0\n"
     ]
    },
    {
     "data": {
      "image/png": "[encoded data removed]",
      "text/plain": [
       "<Figure size 720x720 with 2 Axes>"
      ]
     },
     "metadata": {
      "needs_background": "light"
     },
     "output_type": "display_data"
    }
   ],
   "source": [
    "#EVALUATION\n",
    "model.fit(X_train, y_train)\n",
    "\n",
    "y_pred = model.predict(X_test)\n",
    "accuracy_score(y_test, y_pred)\n",
    "print(f\"The accuracy of the model is {round(accuracy_score(y_test,y_pred),3)*100} %\")\n",
    "\n",
    "train_probs = model.predict_proba(X_train)[:,1] \n",
    "probs = model.predict_proba(X_test)[:, 1]\n",
    "train_predictions = model.predict(X_train)\n",
    "\n",
    "print(f'Train ROC AUC Score: {roc_auc_score(y_train, train_probs)}')\n",
    "print(f'Test ROC AUC  Score: {roc_auc_score(y_test, probs)}')\n",
    "\n",
    "\n",
    "# Calculate false positive rates and true positive rates\n",
    "base_fpr, base_tpr, _ = roc_curve(y_test, [1 for _ in range(len(y_test))])\n",
    "model_fpr, model_tpr, _ = roc_curve(y_test, probs)\n",
    "plt.figure(figsize = (8, 6))\n",
    "plt.rcParams['font.size'] = 16\n",
    "\n",
    "# Plot both curves\n",
    "plt.plot(base_fpr, base_tpr, 'b', label = 'baseline')\n",
    "plt.plot(model_fpr, model_tpr, 'r', label = 'model')\n",
    "plt.legend();\n",
    "plt.xlabel('False Positive Rate');\n",
    "plt.ylabel('True Positive Rate'); plt.title('ROC Curves');\n",
    "plt.show();\n",
    "\n",
    "evaluate_model(y_pred,probs,train_predictions,train_probs)\n",
    "\n",
    "# plot confusion matrix\n",
    "cm = confusion_matrix(y_test, y_pred)\n",
    "plot_confusion_matrix(cm,lag=\"zero\",classes = ['Independent lag zero', 'Dependent lag zero'],\n",
    "                      title = 'Exit status Confusion Matrix')\n",
    "\n",
    "#fig.savefig(output_dir+'RF_CM_Lag_Zero.png', dpi = 300, bbox_inches='tight')"
   ]
  },
  {
   "cell_type": "code",
   "execution_count": 7,
   "metadata": {},
   "outputs": [
    {
     "name": "stdout",
     "output_type": "stream",
     "text": [
      "finished explainer\n"
     ]
    }
   ],
   "source": [
    "## Interpreting the RF-model / variable importance with SHAP values\n",
    "explainer = shap.TreeExplainer(model,data=X_train[:500],feature_perturbation='interventional')\n",
    "print(\"finished explainer\")\n",
    "#shap_values = shap.TreeExplainer(model).shap_values(X_test[:1000])\n",
    "#print(\"finished computing shap, building plot\")\n",
    "#shap_values = explainer.shap_values(X_test,)"
   ]
  },
  {
   "cell_type": "code",
   "execution_count": 10,
   "metadata": {},
   "outputs": [
    {
     "name": "stderr",
     "output_type": "stream",
     "text": [
      "100%|===================| 16997/17010 [09:18<00:00]        "
     ]
    }
   ],
   "source": [
    "shap_values = explainer.shap_values(X_test,approximate=False)"
   ]
  },
  {
   "cell_type": "code",
   "execution_count": null,
   "metadata": {},
   "outputs": [],
   "source": [
    "from matplotlib import colors as plt_colors\n",
    "\n",
    "shap.summary_plot(shap_values[1],X_test,max_display=5, show=False,plot_type=\"dot\")\n",
    "\n",
    "\n",
    "fig = plt.gcf()\n",
    "fig.set_figheight(10)\n",
    "fig.set_figwidth(14)\n",
    "\n",
    "ax = plt.gca()\n",
    "# Plot the summary without showing it\n",
    "#plt.figure()\n",
    "#shap.summary_plot(shap_values[1],X_test,max_display=10, show=False,plot_type=\"dot\")\n",
    "#shap.summary_plot(shap_values_XGB_train, X_train, show=False)\n",
    "\n",
    "# Change the colormap of the artists\n",
    "my_cmap = plt.get_cmap('bwr')\n",
    "\n",
    "# Change the colormap of the artists\n",
    "for fc in plt.gcf().get_children():\n",
    "    for fcc in fc.get_children():\n",
    "        if hasattr(fcc, \"set_cmap\"):\n",
    "            fcc.set_cmap(my_cmap)\n",
    "\n",
    "cb = plt.colorbar(ticks=[0,1])\n",
    "cb.set_label(label='Feature value', size='large',weight=\"bold\",fontname=\"Arial\",labelpad=-10)\n",
    "cb.ax.set_yticklabels([\"Low\", \"High\"],weight=\"bold\",fontname=\"Arial\") \n",
    "#cb.ax.tick_params(labelsize='large')\n",
    "#ax.set_xticklabels(rotation=180)\n",
    "\n",
    "\n",
    "plt.title(\"Feature importance 0 year time-lag\",fontweight=\"bold\",fontname=\"Arial\")\n",
    "plt.xlabel(\"SHAP value (impact on model output)\",fontweight=\"bold\",fontname=\"Arial\",fontsize=20)\n",
    "\n",
    "#cbar = plt.colorbar(heatmap)\n",
    "#cbar.ax.set_yticklabels(['0','1','2','>3'])\n",
    "#cbar.set_label('# of contacts', rotation=270)\n",
    "\n",
    "plt.xticks(fontsize=18,color='black',fontname=\"Arial\")\n",
    "plt.yticks(fontsize=18,color='black',fontname=\"Arial\")\n",
    "# Plot the summary without showing it\n",
    "plt.figure()\n",
    "#plt.ylabel(\"SHAP value for the 'Age' feature\")\n",
    "# plt.savefig(\"my_dependence_plot.pdf\") # we can save a PDF of the figure if we want\n",
    "plt.show()\n",
    "output_dir = \"/Users/markrademaker/Projects/Sea-scape-analysis/RF/\"\n",
    "fig.savefig(output_dir+'SHAP_Lag_zero_RF.png', dpi = 300, bbox_inches='tight')"
   ]
  },
  {
   "cell_type": "code",
   "execution_count": null,
   "metadata": {},
   "outputs": [],
   "source": [
    "shap.dependence_plot(\"Fecundity\", shap_values[1], X_test,interaction_index=None, show=False,dot_size=60,alpha=0.5)\n",
    "\n",
    "fig = plt.gcf()\n",
    "fig.set_figheight(10)\n",
    "fig.set_figwidth(14)\n",
    "ax = plt.gca()\n",
    "#plt.xlim(left=0,right=1000000)\n",
    "\n",
    "\n",
    "#plt.title(\"SHAP dependence plot Maximum Age\",fontweight=\"bold\",fontname=\"Arial\")\n",
    "plt.xlabel(\"Fecundity\",fontweight=\"bold\",fontname=\"Arial\",fontsize=20)\n",
    "plt.ylabel(\"SHAP value (impact on model output)\",fontweight=\"bold\",fontname=\"Arial\",fontsize=20)\n",
    "\n",
    "\n",
    "#cbar = plt.colorbar(heatmap)\n",
    "#cbar.ax.set_yticklabels(['0','1','2','>3'])\n",
    "#cbar.set_label('# of contacts', rotation=270)\n",
    "\n",
    "plt.xticks(fontsize=18,color='black',fontname=\"Arial\")\n",
    "plt.yticks(fontsize=18,color='black',fontname=\"Arial\")\n",
    "\n",
    "plt.show()\n",
    "output_dir = \"/Users/markrademaker/Projects/Sea-scape-analysis/RF/\"\n",
    "fig.savefig(output_dir+'SHAP_Lag_zero_RF_Fecundity.png', dpi = 300, bbox_inches='tight')"
   ]
  },
  {
   "cell_type": "code",
   "execution_count": null,
   "metadata": {},
   "outputs": [],
   "source": [
    "shap.dependence_plot(\"Fecundity\", shap_values[1], X_test,show=False,interaction_index=None,dot_size=60,alpha=0.5)\n",
    "\n",
    "fig = plt.gcf()\n",
    "fig.set_figheight(10)\n",
    "fig.set_figwidth(14)\n",
    "ax = plt.gca()\n",
    "#plt.xlim(left=0,right=1000000)\n",
    "plt.xlabel(\"Fecundity\",fontweight=\"bold\",fontname=\"Arial\",fontsize=20)\n",
    "plt.ylabel(\"SHAP value\",fontweight=\"bold\",fontname=\"Arial\",fontsize=20)\n",
    "\n",
    "plt.xticks(fontsize=18,color='black',fontname=\"Arial\")\n",
    "plt.yticks(fontsize=18,color='black',fontname=\"Arial\")\n",
    "\n",
    "plt.show()\n"
   ]
  },
  {
   "cell_type": "markdown",
   "metadata": {},
   "source": [
    "# Lag 1-2"
   ]
  },
  {
   "cell_type": "code",
   "execution_count": 4,
   "metadata": {},
   "outputs": [
    {
     "data": {
      "text/plain": [
       "Index(['Unnamed: 0', 'Seascape combination', 'Neighbouring', 'Species',\n",
       "       'Causal lag 0', 'Causal lag 1', 'Causal lag 2', 'Year', 'Diff LQL Juv',\n",
       "       'Diff UQL Juv', 'Diff Juv Biomass', 'Diff LQL Adult', 'Diff UQL Adult',\n",
       "       'Diff Adult Biomass', 'Family', 'Seasonal migration', 'Fecundity',\n",
       "       'Spawning type', 'Age at Maturity', 'Maximum age', 'Habitat',\n",
       "       'Feeding mode', 'Body type', 'Maximum length', 'Length at maturity'],\n",
       "      dtype='object')"
      ]
     },
     "execution_count": 4,
     "metadata": {},
     "output_type": "execute_result"
    },
    {
     "name": "stdout",
     "output_type": "stream",
     "text": [
      "1344\n"
     ]
    },
    {
     "data": {
      "text/plain": [
       "Index(['Seascape combination', 'Species', 'Year', 'Diff LQL Juv',\n",
       "       'Diff UQL Juv', 'Diff LQL Adult', 'Diff UQL Adult', 'Family',\n",
       "       'Seasonal migration', 'Fecundity', 'Age at Maturity', 'Maximum age',\n",
       "       'Habitat', 'Feeding mode', 'Body type', 'Maximum length',\n",
       "       'Length at maturity'],\n",
       "      dtype='object')"
      ]
     },
     "execution_count": 4,
     "metadata": {},
     "output_type": "execute_result"
    },
    {
     "data": {
      "text/plain": [
       "Seascape combination     object\n",
       "Species                  object\n",
       "Year                      int64\n",
       "Diff LQL Juv            float64\n",
       "Diff UQL Juv            float64\n",
       "Diff LQL Adult          float64\n",
       "Diff UQL Adult          float64\n",
       "Family                   object\n",
       "Seasonal migration       object\n",
       "Fecundity               float64\n",
       "Age at Maturity         float64\n",
       "Maximum age             float64\n",
       "Habitat                  object\n",
       "Feeding mode             object\n",
       "Body type                object\n",
       "Maximum length          float64\n",
       "Length at maturity      float64\n",
       "dtype: object"
      ]
     },
     "execution_count": 4,
     "metadata": {},
     "output_type": "execute_result"
    },
    {
     "name": "stdout",
     "output_type": "stream",
     "text": [
      "['Seascape combination', 'Species', 'Family', 'Seasonal migration', 'Habitat', 'Feeding mode', 'Body type']\n",
      "Seascape combination\n",
      "Species\n",
      "Family\n",
      "Seasonal migration\n",
      "Habitat\n",
      "Feeding mode\n",
      "Body type\n",
      "17010\n",
      "81\n",
      "9.0\n"
     ]
    }
   ],
   "source": [
    "user = \"/Users/markrademaker/Projects/Sea-scape-analysis/\"\n",
    "\n",
    "data = pd.read_csv(user+\"RF/RF_table.csv\")\n",
    "data.columns\n",
    "\n",
    "## Objective function to predict Causal lag 0 \n",
    "exit_status_map = {'yes': 1, 'no': 0}\n",
    "data['Causal lag 1'] = data['Causal lag 1'].map(exit_status_map)\n",
    "data['Causal lag 2'] = data['Causal lag 2'].map(exit_status_map)\n",
    "data['Causal lag 1-2'] = data.apply(f,axis=1)\n",
    "print(len(data.loc[data[\"Causal lag 1-2\"]==1]))\n",
    "\n",
    "data['Diff LQL Juv']=np.abs(data['Diff LQL Juv'])#\n",
    "data['Diff UQL Juv']=np.abs(data['Diff UQL Juv'])\n",
    "data['Diff LQL Adult']=np.abs(data['Diff LQL Adult'])\n",
    "data['Diff UQL Adult']=np.abs(data['Diff UQL Adult'])\n",
    "#data['Diff LQL Juv']=np.abs(data['Diff LQL Juv'])\n",
    "#data['Diff UQL Juv']=np.abs(data['Diff UQL Juv'])\n",
    "#data['Diff LQL Adult']=np.abs(data['Diff LQL Adult'])\n",
    "#data['Diff UQL Adult']=np.abs(data['Diff UQL Adult'])\n",
    "\n",
    "y = data.pop(\"Causal lag 1-2\")\n",
    "X = data.drop(['Unnamed: 0','Neighbouring','Causal lag 0','Causal lag 1','Causal lag 2',\"Diff Adult Biomass\",\"Diff Juv Biomass\",\"Spawning type\"],axis=1)\n",
    "\n",
    "X.columns\n",
    "\n",
    "X.dtypes\n",
    "features_to_encode = list(X.select_dtypes(include = ['object']).columns) \n",
    "print(features_to_encode)\n",
    "\n",
    "for feature in features_to_encode:\n",
    "    print(feature)\n",
    "    X = encode_and_bind(X, feature)\n",
    "\n",
    "    \n",
    "print(len(X))\n",
    "X.columns = X.columns.str.replace('_', ' ')\n",
    "print(len(list(X.columns)))\n",
    "print(np.sqrt(int(len(list(X.columns)))))\n",
    "\n",
    "X_train, X_test, y_train, y_test = train_test_split(X,y,test_size=0.5, random_state=1)"
   ]
  },
  {
   "cell_type": "code",
   "execution_count": null,
   "metadata": {},
   "outputs": [],
   "source": [
    "#set class weight\n",
    "class_weight = dict({0:1, 1:11.5})\n",
    "cv = StratifiedKFold(n_splits = 5, shuffle=True, random_state = 1)\n",
    "\n",
    "rdf = RandomForestClassifier(random_state = 1,class_weight=class_weight) \n",
    "scoring = {'Recall': make_scorer(recall_score),\n",
    "           'f1_score': make_scorer(f1_score)\n",
    "          }\n",
    "\n",
    "params = {'max_depth': [6, 8, 10, 20,40], \n",
    "              'min_samples_split': [5, 10, 15,10],\n",
    "              'min_samples_leaf' : [4, 8, 12,16],\n",
    "              'n_estimators' : [300, 400, 500,600]\n",
    "             }\n",
    "\n",
    "grid_clf = GridSearchCV(estimator = rdf, param_grid = params, cv = cv, n_jobs=-1, verbose=4)\n",
    "grid_clf.fit(X_train, y_train)"
   ]
  },
  {
   "cell_type": "code",
   "execution_count": null,
   "metadata": {},
   "outputs": [],
   "source": [
    "print(grid_clf.best_estimator_)\n",
    "print(grid_clf.best_params_)"
   ]
  },
  {
   "cell_type": "code",
   "execution_count": 5,
   "metadata": {},
   "outputs": [
    {
     "name": "stdout",
     "output_type": "stream",
     "text": [
      "Mean ROC AUC: 0.982\n"
     ]
    }
   ],
   "source": [
    "#set class weight\n",
    "class_weight = dict({0:1, 1:11.5})\n",
    "# define model\n",
    "#model = RandomForestClassifier(bootstrap=True,\n",
    "#            class_weight=class_weight, \n",
    "#            criterion='gini',\n",
    "#            max_depth=8, max_features='auto', max_leaf_nodes=None,\n",
    "#            min_impurity_decrease=0.0, min_impurity_split=None,\n",
    "#            min_samples_leaf=4, min_samples_split=10,\n",
    "#            min_weight_fraction_leaf=0.0, n_estimators=300,\n",
    "#            oob_score=False,\n",
    "#            random_state=1,\n",
    "#            verbose=0, warm_start=False)\n",
    "model = RandomForestClassifier(bootstrap=True, \n",
    "                               class_weight=class_weight,\n",
    "                               max_depth=40,\n",
    "                               max_features='auto', \n",
    "                               max_leaf_nodes=None,\n",
    "                               min_impurity_decrease=0.0, \n",
    "                               min_impurity_split=None,\n",
    "                               min_samples_leaf=10, \n",
    "                               min_samples_split=15,\n",
    "                               min_weight_fraction_leaf=0.0,\n",
    "                               n_estimators=500, \n",
    "                               n_jobs=-1,\n",
    "                               oob_score=True,\n",
    "                               random_state=1,\n",
    "                               verbose=0, \n",
    "                               warm_start=False)\n",
    "\n",
    "\n",
    "#model = BalancedRandomForestClassifier(min_samples_leaf=50,\n",
    "#                                       n_estimators=150,\n",
    "#                                       bootstrap = True,\n",
    "#                                       oob_score = True,\n",
    "#                                       n_jobs = -1,\n",
    "#                                       class_weight=class_weight,\n",
    "#                                       random_state = 1,\n",
    "#                                       max_features = 'auto')\n",
    "\n",
    "# define evaluation procedure\n",
    "#cv = RepeatedStratifiedKFold(n_splits=10, n_repeats=5, random_state=1)\n",
    "cv = StratifiedKFold(n_splits=5,shuffle=True,random_state=42)\n",
    "# evaluate model\n",
    "scores = cross_val_score(model, X_train, y_train, scoring='roc_auc', cv=cv, n_jobs=-1)\n",
    "\n",
    "# summarize performance\n",
    "print('Mean ROC AUC: %.3f' % mean(scores))"
   ]
  },
  {
   "cell_type": "code",
   "execution_count": 6,
   "metadata": {},
   "outputs": [
    {
     "data": {
      "text/plain": [
       "RandomForestClassifier(class_weight={0: 1, 1: 11.5}, max_depth=40,\n",
       "                       min_samples_leaf=10, min_samples_split=15,\n",
       "                       n_estimators=500, n_jobs=-1, oob_score=True,\n",
       "                       random_state=1)"
      ]
     },
     "execution_count": 6,
     "metadata": {},
     "output_type": "execute_result"
    },
    {
     "data": {
      "text/plain": [
       "0.9904761904761905"
      ]
     },
     "execution_count": 6,
     "metadata": {},
     "output_type": "execute_result"
    },
    {
     "name": "stdout",
     "output_type": "stream",
     "text": [
      "The accuracy of the model is 99.0 %\n",
      "Train ROC AUC Score: 0.9999177322895901\n",
      "Test ROC AUC  Score: 0.9973718827666221\n"
     ]
    },
    {
     "data": {
      "text/plain": [
       "<Figure size 576x432 with 0 Axes>"
      ]
     },
     "execution_count": 6,
     "metadata": {},
     "output_type": "execute_result"
    },
    {
     "data": {
      "text/plain": [
       "[<matplotlib.lines.Line2D at 0x7fb3a037f810>]"
      ]
     },
     "execution_count": 6,
     "metadata": {},
     "output_type": "execute_result"
    },
    {
     "data": {
      "text/plain": [
       "[<matplotlib.lines.Line2D at 0x7fb3bc382f90>]"
      ]
     },
     "execution_count": 6,
     "metadata": {},
     "output_type": "execute_result"
    },
    {
     "data": {
      "text/plain": [
       "<matplotlib.legend.Legend at 0x7fb39fde7490>"
      ]
     },
     "execution_count": 6,
     "metadata": {},
     "output_type": "execute_result"
    },
    {
     "data": {
      "text/plain": [
       "Text(0.5, 0, 'False Positive Rate')"
      ]
     },
     "execution_count": 6,
     "metadata": {},
     "output_type": "execute_result"
    },
    {
     "data": {
      "text/plain": [
       "Text(0, 0.5, 'True Positive Rate')"
      ]
     },
     "execution_count": 6,
     "metadata": {},
     "output_type": "execute_result"
    },
    {
     "data": {
      "text/plain": [
       "Text(0.5, 1.0, 'ROC Curves')"
      ]
     },
     "execution_count": 6,
     "metadata": {},
     "output_type": "execute_result"
    },
    {
     "data": {
      "image/png": "[encoded data removed]",
      "text/plain": [
       "<Figure size 576x432 with 1 Axes>"
      ]
     },
     "metadata": {
      "needs_background": "light"
     },
     "output_type": "display_data"
    },
    {
     "name": "stdout",
     "output_type": "stream",
     "text": [
      "Recall Baseline: 1.0 Test: 0.97 Train: 1.0\n",
      "Precision Baseline: 0.08 Test: 0.92 Train: 0.94\n",
      "Roc Baseline: 0.5 Test: 1.0 Train: 1.0\n"
     ]
    },
    {
     "data": {
      "image/png": "[encoded data removed]",
      "text/plain": [
       "<Figure size 720x720 with 2 Axes>"
      ]
     },
     "metadata": {
      "needs_background": "light"
     },
     "output_type": "display_data"
    }
   ],
   "source": [
    "#EVALUATION\n",
    "model.fit(X_train, y_train)\n",
    "\n",
    "y_pred = model.predict(X_test)\n",
    "accuracy_score(y_test, y_pred)\n",
    "print(f\"The accuracy of the model is {round(accuracy_score(y_test,y_pred),3)*100} %\")\n",
    "\n",
    "train_probs = model.predict_proba(X_train)[:,1] \n",
    "probs = model.predict_proba(X_test)[:, 1]\n",
    "train_predictions = model.predict(X_train)\n",
    "\n",
    "print(f'Train ROC AUC Score: {roc_auc_score(y_train, train_probs)}')\n",
    "print(f'Test ROC AUC  Score: {roc_auc_score(y_test, probs)}')\n",
    "\n",
    "\n",
    "# Calculate false positive rates and true positive rates\n",
    "base_fpr, base_tpr, _ = roc_curve(y_test, [1 for _ in range(len(y_test))])\n",
    "model_fpr, model_tpr, _ = roc_curve(y_test, probs)\n",
    "plt.figure(figsize = (8, 6))\n",
    "plt.rcParams['font.size'] = 16\n",
    "\n",
    "# Plot both curves\n",
    "plt.plot(base_fpr, base_tpr, 'b', label = 'baseline')\n",
    "plt.plot(model_fpr, model_tpr, 'r', label = 'model')\n",
    "plt.legend();\n",
    "plt.xlabel('False Positive Rate');\n",
    "plt.ylabel('True Positive Rate'); plt.title('ROC Curves');\n",
    "plt.show();\n",
    "\n",
    "evaluate_model(y_pred,probs,train_predictions,train_probs)\n",
    "\n",
    "# plot confusion matrix\n",
    "cm = confusion_matrix(y_test, y_pred)\n",
    "plot_confusion_matrix(cm,lag=\"One_Two\", classes = ['Independent lag one-two', 'Dependent lag one-two'],\n",
    "                      title = 'Exit status Confusion Matrix')"
   ]
  },
  {
   "cell_type": "code",
   "execution_count": 7,
   "metadata": {},
   "outputs": [
    {
     "name": "stdout",
     "output_type": "stream",
     "text": [
      "finished explainer\n"
     ]
    }
   ],
   "source": [
    "## Interpreting the RF-model / variable importance with SHAP values\n",
    "explainer = shap.TreeExplainer(model,data=X_train[:500],feature_perturbation='interventional')\n",
    "print(\"finished explainer\")\n",
    "#shap_values = shap.TreeExplainer(model).shap_values(X_test[:1000])\n",
    "#print(\"finished computing shap, building plot\")\n",
    "#shap_values = explainer.shap_values(X_test,)"
   ]
  },
  {
   "cell_type": "code",
   "execution_count": 8,
   "metadata": {},
   "outputs": [
    {
     "name": "stderr",
     "output_type": "stream",
     "text": [
      "100%|===================| 17005/17010 [73:22<00:01]        "
     ]
    }
   ],
   "source": [
    "shap_values = explainer.shap_values(X_test,approximate=False)"
   ]
  },
  {
   "cell_type": "code",
   "execution_count": null,
   "metadata": {},
   "outputs": [],
   "source": []
  },
  {
   "cell_type": "code",
   "execution_count": null,
   "metadata": {},
   "outputs": [],
   "source": [
    "from matplotlib import colors as plt_colors\n",
    "\n",
    "shap.summary_plot(shap_values[1],X_test,max_display=5, show=False,plot_type=\"dot\")\n",
    "f=np.max(X_test[\"Maximum age\"])\n",
    "f2=np.min(X_test[\"Maximum age\"])\n",
    "print(f,f2)\n",
    "\n",
    "fig = plt.gcf()\n",
    "fig.set_figheight(10)\n",
    "fig.set_figwidth(12)\n",
    "\n",
    "ax = plt.gca()\n",
    "# Plot the summary without showing it\n",
    "#plt.figure()\n",
    "#shap.summary_plot(shap_values[1],X_test,max_display=10, show=False,plot_type=\"dot\")\n",
    "#shap.summary_plot(shap_values_XGB_train, X_train, show=False)\n",
    "\n",
    "# Change the colormap of the artists\n",
    "my_cmap = plt.get_cmap('bwr')\n",
    "\n",
    "# Change the colormap of the artists\n",
    "for fc in plt.gcf().get_children():\n",
    "    for fcc in fc.get_children():\n",
    "        if hasattr(fcc, \"set_cmap\"):\n",
    "            fcc.set_cmap(my_cmap)\n",
    "\n",
    "cb = plt.colorbar(ticks=[2.774999996,30.857142857142897])\n",
    "cb.set_label(label='Feature value', size='large',weight=\"bold\",fontname=\"Arial\",labelpad=-10)\n",
    "cb.ax.set_yticklabels([\"Low\", \"High\"],weight=\"bold\",fontname=\"Arial\") \n",
    "#cb.ax.tick_params(labelsize='large')\n",
    "#ax.set_xticklabels(rotation=180)\n",
    "\n",
    "\n",
    "plt.title(\"Feature importance 1-2 year time-lag\",fontweight=\"bold\",fontname=\"Arial\")\n",
    "plt.xlabel(\"SHAP value (impact on model output)\",fontweight=\"bold\",fontname=\"Arial\",fontsize=20)\n",
    "\n",
    "#cbar = plt.colorbar(heatmap)\n",
    "#cbar.ax.set_yticklabels(['0','1','2','>3'])\n",
    "#cbar.set_label('# of contacts', rotation=270)\n",
    "\n",
    "plt.xticks(fontsize=18,color='black',fontname=\"Arial\")\n",
    "plt.yticks(fontsize=18,color='black',fontname=\"Arial\")\n",
    "# Plot the summary without showing it\n",
    "plt.figure()\n",
    "#plt.ylabel(\"SHAP value for the 'Age' feature\")\n",
    "# plt.savefig(\"my_dependence_plot.pdf\") # we can save a PDF of the figure if we want\n",
    "plt.show()\n",
    "output_dir = \"/Users/markrademaker/Projects/Sea-scape-analysis/RF/\"\n",
    "fig.savefig(output_dir+'SHAP_Lag_one_two_RF.png', dpi = 300, bbox_inches='tight')"
   ]
  },
  {
   "cell_type": "code",
   "execution_count": null,
   "metadata": {},
   "outputs": [],
   "source": [
    "shap.dependence_plot(\"Diff UQL Juv\", shap_values[1], X_test,show=False,dot_size=60,alpha=0.5)#interaction_index=None\n",
    "\n",
    "fig = plt.gcf()\n",
    "fig.set_figheight(10)\n",
    "fig.set_figwidth(14)\n",
    "ax = plt.gca()\n",
    "#plt.xlim(left=0,right=1000000)\n",
    "plt.xlabel(\"Diff UQL Juv\",fontweight=\"bold\",fontname=\"Arial\",fontsize=20)\n",
    "plt.ylabel(\"SHAP value\",fontweight=\"bold\",fontname=\"Arial\",fontsize=20)\n",
    "\n",
    "plt.xticks(fontsize=18,color='black',fontname=\"Arial\")\n",
    "plt.yticks(fontsize=18,color='black',fontname=\"Arial\")\n",
    "\n",
    "plt.show()\n",
    "\n"
   ]
  },
  {
   "cell_type": "code",
   "execution_count": null,
   "metadata": {},
   "outputs": [],
   "source": [
    "inds = shap.approximate_interactions(\"Diff UQL Juv\", shap_values[1], X_test)\n",
    "# make plots colored by each of the top three possible interacting features\n",
    "for i in range(3):\n",
    "    shap.dependence_plot(\"Diff UQL Juv\", shap_values[1], X_test, interaction_index=inds[i])\n",
    "\n"
   ]
  },
  {
   "cell_type": "code",
   "execution_count": null,
   "metadata": {},
   "outputs": [],
   "source": [
    "shap.dependence_plot(\"Diff LQL Juv\", shap_values[1], X_test,show=False,interaction_index=None,dot_size=60,alpha=0.5)\n",
    "\n",
    "fig = plt.gcf()\n",
    "fig.set_figheight(10)\n",
    "fig.set_figwidth(14)\n",
    "ax = plt.gca()\n",
    "#plt.xlim(left=0,right=1000000)\n",
    "plt.xlabel(\"Diff UQL Juv\",fontweight=\"bold\",fontname=\"Arial\",fontsize=20)\n",
    "plt.ylabel(\"SHAP value\",fontweight=\"bold\",fontname=\"Arial\",fontsize=20)\n",
    "\n",
    "plt.xticks(fontsize=18,color='black',fontname=\"Arial\")\n",
    "plt.yticks(fontsize=18,color='black',fontname=\"Arial\")\n",
    "\n",
    "plt.show()\n",
    "\n",
    "\n"
   ]
  },
  {
   "cell_type": "code",
   "execution_count": null,
   "metadata": {},
   "outputs": [],
   "source": [
    "inds = shap.approximate_interactions(\"Diff LQL Juv\", shap_values[1], X_test)\n",
    "# make plots colored by each of the top three possible interacting features\n",
    "for i in range(3):\n",
    "    shap.dependence_plot(\"Diff LQL Juv\", shap_values[1], X_test, interaction_index=inds[i])\n"
   ]
  },
  {
   "cell_type": "code",
   "execution_count": null,
   "metadata": {},
   "outputs": [],
   "source": []
  }
 ],
 "metadata": {
  "kernelspec": {
   "display_name": "Python 3",
   "language": "python",
   "name": "python3"
  },
  "language_info": {
   "codemirror_mode": {
    "name": "ipython",
    "version": 3
   },
   "file_extension": ".py",
   "mimetype": "text/x-python",
   "name": "python",
   "nbconvert_exporter": "python",
   "pygments_lexer": "ipython3",
   "version": "3.7.7"
  }
 },
 "nbformat": 4,
 "nbformat_minor": 4
}
