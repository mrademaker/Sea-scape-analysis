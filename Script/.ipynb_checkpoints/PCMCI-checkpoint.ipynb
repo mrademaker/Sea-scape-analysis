{
 "cells": [
  {
   "cell_type": "code",
   "execution_count": 3,
   "metadata": {},
   "outputs": [],
   "source": [
    "import numpy as np\n",
    "import matplotlib\n",
    "from matplotlib import pyplot as plt\n",
    "%matplotlib inline\n",
    "\n",
    "import sklearn\n",
    "import tigramite\n",
    "from tigramite import data_processing as pp\n",
    "from tigramite import plotting as tp\n",
    "from tigramite.pcmci import PCMCI\n",
    "from tigramite.independence_tests import ParCorr, GPDC, CMIknn, CMIsymb"
   ]
  },
  {
   "cell_type": "code",
   "execution_count": 27,
   "metadata": {},
   "outputs": [
    {
     "name": "stdout",
     "output_type": "stream",
     "text": [
      "<tigramite.data_processing.DataFrame object at 0x000001BC3B676898>\n"
     ]
    }
   ],
   "source": [
    "np.random.seed(1)\n",
    "data = np.random.randn(500, 3)\n",
    "for t in range(1, 500):\n",
    "#     data[t, 0] += 0.6*data[t-1, 1]\n",
    "    data[t, 1] += 0.6*data[t-1, 0]\n",
    "    data[t, 2] += 0.6*data[t-1, 1] - 0.36*data[t-2, 0]\n",
    "    \n",
    "var_names = [r'$X^0$', r'$X^1$', r'$X^2$', r'$X^3$']\n",
    "dataframe = pp.DataFrame(data)#, var_names=var_names)\n",
    "#dataframe.names=var_names\n",
    "# tp.plot_timeseries(dataframe)\n",
    "print(dataframe)\n"
   ]
  },
  {
   "cell_type": "code",
   "execution_count": 18,
   "metadata": {},
   "outputs": [
    {
     "name": "stdout",
     "output_type": "stream",
     "text": [
      "\n",
      "##\n",
      "## Running Tigramite PC algorithm\n",
      "##\n",
      "\n",
      "Parameters:\n",
      "independence test = par_corr\n",
      "tau_min = 1\n",
      "tau_max = 2\n",
      "pc_alpha = 0.2\n",
      "max_conds_dim = None\n",
      "max_combinations = 1\n",
      "\n",
      "\n",
      "\n",
      "## Variable 0\n",
      "\n",
      "## Variable 1\n",
      "\n",
      "## Variable 2\n",
      "\n",
      "## Resulting condition sets:\n",
      "\n",
      "    Variable 0 has 0 parent(s):\n",
      "\n",
      "    Variable 1 has 1 parent(s):\n",
      "        (0 -1): max_pval = 0.00000, min_val = 0.534\n",
      "\n",
      "    Variable 2 has 1 parent(s):\n",
      "        (1 -1): max_pval = 0.00000, min_val = 0.434\n"
     ]
    }
   ],
   "source": [
    "parcorr = ParCorr()\n",
    "pcmci_parcorr = PCMCI(\n",
    "    dataframe=dataframe, \n",
    "    cond_ind_test=parcorr,\n",
    "    verbosity=1)\n",
    "all_parents = pcmci_parcorr.run_pc_stable(tau_max=2, pc_alpha=0.2)"
   ]
  },
  {
   "cell_type": "code",
   "execution_count": 28,
   "metadata": {},
   "outputs": [
    {
     "name": "stdout",
     "output_type": "stream",
     "text": [
      "\n",
      "##\n",
      "## Running Tigramite PC algorithm\n",
      "##\n",
      "\n",
      "Parameters:\n",
      "independence test = par_corr\n",
      "tau_min = 1\n",
      "tau_max = 2\n",
      "pc_alpha = 0.2\n",
      "max_conds_dim = None\n",
      "max_combinations = 1\n",
      "\n",
      "\n",
      "\n",
      "## Variable 0\n",
      "\n",
      "## Variable 1\n",
      "\n",
      "## Variable 2\n",
      "\n",
      "## Resulting condition sets:\n",
      "\n",
      "    Variable 0 has 0 parent(s):\n",
      "\n",
      "    Variable 1 has 1 parent(s):\n",
      "        (0 -1): max_pval = 0.00000, min_val = 0.534\n",
      "\n",
      "    Variable 2 has 1 parent(s):\n",
      "        (1 -1): max_pval = 0.00000, min_val = 0.434\n",
      "\n",
      "##\n",
      "## Running Tigramite MCI algorithm\n",
      "##\n",
      "\n",
      "Parameters:\n",
      "\n",
      "independence test = par_corr\n",
      "tau_min = 1\n",
      "tau_max = 2\n",
      "max_conds_py = None\n",
      "max_conds_px = None\n",
      "\n",
      "\tVariable 0\n",
      "\n",
      "\tVariable 1\n",
      "\n",
      "\tVariable 2\n"
     ]
    },
    {
     "ename": "AttributeError",
     "evalue": "'PCMCI' object has no attribute 'print_significant_links'",
     "output_type": "error",
     "traceback": [
      "\u001b[1;31m---------------------------------------------------------------------------\u001b[0m",
      "\u001b[1;31mAttributeError\u001b[0m                            Traceback (most recent call last)",
      "\u001b[1;32m<ipython-input-28-6ad2eca60f71>\u001b[0m in \u001b[0;36m<module>\u001b[1;34m\u001b[0m\n\u001b[0;32m      1\u001b[0m \u001b[0mresults\u001b[0m \u001b[1;33m=\u001b[0m \u001b[0mpcmci_parcorr\u001b[0m\u001b[1;33m.\u001b[0m\u001b[0mrun_pcmci\u001b[0m\u001b[1;33m(\u001b[0m\u001b[0mtau_max\u001b[0m\u001b[1;33m=\u001b[0m\u001b[1;36m2\u001b[0m\u001b[1;33m,\u001b[0m \u001b[0mpc_alpha\u001b[0m\u001b[1;33m=\u001b[0m\u001b[1;36m0.2\u001b[0m\u001b[1;33m)\u001b[0m\u001b[1;33m\u001b[0m\u001b[1;33m\u001b[0m\u001b[0m\n\u001b[1;32m----> 2\u001b[1;33m pcmci_parcorr.print_significant_links(\n\u001b[0m\u001b[0;32m      3\u001b[0m         \u001b[0mp_matrix\u001b[0m \u001b[1;33m=\u001b[0m \u001b[0mresults\u001b[0m\u001b[1;33m[\u001b[0m\u001b[1;34m'p_matrix'\u001b[0m\u001b[1;33m]\u001b[0m\u001b[1;33m,\u001b[0m\u001b[1;33m\u001b[0m\u001b[1;33m\u001b[0m\u001b[0m\n\u001b[0;32m      4\u001b[0m         \u001b[0mval_matrix\u001b[0m \u001b[1;33m=\u001b[0m \u001b[0mresults\u001b[0m\u001b[1;33m[\u001b[0m\u001b[1;34m'val_matrix'\u001b[0m\u001b[1;33m]\u001b[0m\u001b[1;33m,\u001b[0m\u001b[1;33m\u001b[0m\u001b[1;33m\u001b[0m\u001b[0m\n\u001b[0;32m      5\u001b[0m         alpha_level = 0.01)\n",
      "\u001b[1;31mAttributeError\u001b[0m: 'PCMCI' object has no attribute 'print_significant_links'"
     ]
    }
   ],
   "source": [
    "results = pcmci_parcorr.run_pcmci(tau_max=2, pc_alpha=0.2)\n",
    "pcmci_parcorr.print_significant_links(\n",
    "        p_matrix = results['p_matrix'], \n",
    "        val_matrix = results['val_matrix'],\n",
    "        alpha_level = 0.01)"
   ]
  }
 ],
 "metadata": {
  "kernelspec": {
   "display_name": "Python 3",
   "language": "python",
   "name": "python3"
  },
  "language_info": {
   "codemirror_mode": {
    "name": "ipython",
    "version": 3
   },
   "file_extension": ".py",
   "mimetype": "text/x-python",
   "name": "python",
   "nbconvert_exporter": "python",
   "pygments_lexer": "ipython3",
   "version": "3.7.3"
  }
 },
 "nbformat": 4,
 "nbformat_minor": 2
}
